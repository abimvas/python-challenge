{
 "cells": [
  {
   "cell_type": "code",
   "execution_count": 13,
   "metadata": {
    "collapsed": true
   },
   "outputs": [],
   "source": [
    "import os"
   ]
  },
  {
   "cell_type": "code",
   "execution_count": 14,
   "metadata": {
    "collapsed": true
   },
   "outputs": [],
   "source": [
    "paragraph_1 = os.path.join(\"paragraph_1.txt\")"
   ]
  },
  {
   "cell_type": "code",
   "execution_count": 15,
   "metadata": {},
   "outputs": [
    {
     "name": "stdout",
     "output_type": "stream",
     "text": [
      "Paragraph Analysis\n",
      "-------------------------\n",
      "Approximate Word Count: 130\n",
      "Approximate Sentence Count: 5\n",
      "Average Letter Count 6.392307692307693\n",
      "Average Sentence Length 21.666666666666668\n"
     ]
    }
   ],
   "source": [
    "#word count\n",
    "with open(paragraph_1, newline=\"\") as inputfile:\n",
    "    words = [word for line in inputfile for word in line.split()]\n",
    "    \n",
    "    print(\"Paragraph Analysis\")\n",
    "    print(\"-------------------------\")\n",
    "    print(\"Approximate Word Count:\", len(words))\n",
    "    \n",
    "#sentence count\n",
    "with open(paragraph_1, newline=\"\") as f:\n",
    "    data = f.read()\n",
    "    print(\"Approximate Sentence Count:\", data.count(\".\"))\n",
    "    \n",
    "#approx. letter count (per word)\n",
    "with open(paragraph_1, newline=\"\") as inputfile:\n",
    "    words = [word for line in inputfile for word in line.split()]\n",
    "    avg_word = sum(len(word) for word in words) / len(words)\n",
    "    print(\"Average Letter Count\", avg_word)\n",
    "    \n",
    "#average sentence length (in words)\n",
    "\n",
    "with open(paragraph_1, newline=\"\") as f:\n",
    "    text = f.read()\n",
    "    sents = text.split('.')\n",
    "    avg_len = sum(len(x.split()) for x in sents) / len(sents)\n",
    "    print(\"Average Sentence Length\", avg_len)"
   ]
  },
  {
   "cell_type": "code",
   "execution_count": null,
   "metadata": {
    "collapsed": true
   },
   "outputs": [],
   "source": []
  }
 ],
 "metadata": {
  "kernelspec": {
   "display_name": "Python [conda env:PythonData]",
   "language": "python",
   "name": "conda-env-PythonData-py"
  }
 },
 "nbformat": 4,
 "nbformat_minor": 2
}
