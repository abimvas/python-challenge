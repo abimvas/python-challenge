{
 "cells": [
  {
   "cell_type": "code",
   "execution_count": 109,
   "metadata": {
    "collapsed": true
   },
   "outputs": [],
   "source": [
    "import os\n",
    "import csv"
   ]
  },
  {
   "cell_type": "code",
   "execution_count": 110,
   "metadata": {
    "collapsed": true
   },
   "outputs": [],
   "source": [
    "data1_csv = os.path.join(\"budget_data_1.csv\")"
   ]
  },
  {
   "cell_type": "code",
   "execution_count": 129,
   "metadata": {},
   "outputs": [
    {
     "name": "stdout",
     "output_type": "stream",
     "text": [
      "Financial Analysis\n",
      "---------------------\n",
      "Total Months: 41\n",
      "Total Revenue: $18971412\n",
      "Average Revenue Change: $462717.3658536585\n",
      "Greatest Increase in Revenue: Sep-15 ($1195111)\n",
      "Greatest Decrease in Revenue: Sep-15 ($1195111)\n"
     ]
    }
   ],
   "source": [
    "#with open(data1_csv, newline=\"\") as csvfile:\n",
    "    #csvreader = csv.reader(csvfile, delimiter=\",\")\n",
    "     \n",
    "#total number of months\n",
    "with open(data1_csv, newline=\"\") as csvreader:\n",
    "    next(csvreader)\n",
    "    total_months = len(list(csvreader))\n",
    "    print(\"Financial Analysis\")\n",
    "    print(\"---------------------\")\n",
    "    print(\"Total Months: \" + str(total_months))\n",
    "\n",
    "#total amount of revenue gained    \n",
    "with open(data1_csv, newline=\"\") as csvreader:\n",
    "    next(csvreader)\n",
    "    total = sum(int(r[1]) for r in csv.reader(csvreader))\n",
    "    print(\"Total Revenue: $\" + str(total))\n",
    "    \n",
    "#average change in revenue    \n",
    "    average = total/total_months\n",
    "    print(\"Average Revenue Change: $\" + str(average))\n",
    "    \n",
    "#greatest increase\n",
    "with open(data1_csv, newline=\"\") as csvreader:\n",
    "    next(csvreader)\n",
    "    increase_month = max((r[0]) for r in csv.reader(csvreader))\n",
    "    \n",
    "with open(data1_csv, newline=\"\") as csvreader:\n",
    "    next(csvreader)\n",
    "    increase_amt = max(int(r[1]) for r in csv.reader(csvreader)) \n",
    "    \n",
    "    print(\"Greatest Increase in Revenue: \" + str(increase_month)+ \" \" + \"($\" + str(increase_amt) + \")\")\n",
    "\n",
    "#greatest decrease\n",
    "with open(data1_csv, newline=\"\") as csvreader:\n",
    "    next(csvreader)\n",
    "    decrease_amt = min(int(r[1]) for r in csv.reader(csvreader))\n",
    "    \n",
    "with open(data1_csv, newline=\"\") as csvreader:\n",
    "    next(csvreader)\n",
    "    decrease_month = min((r[0]) for r in csv.reader(csvreader))\n",
    "    \n",
    "    print(\"Greatest Decrease in Revenue: \" + str(increase_month)+ \" \" + \"($\" + str(increase_amt) + \")\")\n",
    "\n",
    "\n",
    "    "
   ]
  },
  {
   "cell_type": "code",
   "execution_count": null,
   "metadata": {},
   "outputs": [],
   "source": []
  },
  {
   "cell_type": "code",
   "execution_count": null,
   "metadata": {
    "collapsed": true
   },
   "outputs": [],
   "source": []
  }
 ],
 "metadata": {
  "kernelspec": {
   "display_name": "Python [conda env:PythonData]",
   "language": "python",
   "name": "conda-env-PythonData-py"
  },
  "language_info": {
   "codemirror_mode": {
    "name": "ipython",
    "version": 3
   },
   "file_extension": ".py",
   "mimetype": "text/x-python",
   "name": "python",
   "nbconvert_exporter": "python",
   "pygments_lexer": "ipython3",
   "version": "3.6.3"
  }
 },
 "nbformat": 4,
 "nbformat_minor": 2
}
